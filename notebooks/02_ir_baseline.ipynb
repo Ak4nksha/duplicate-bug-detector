{
  "cells": [
    {
      "cell_type": "markdown",
      "metadata": {
        "id": "view-in-github",
        "colab_type": "text"
      },
      "source": [
        "<a href=\"https://colab.research.google.com/github/Ak4nksha/duplicate-bug-detector/blob/main/notebooks/02_ir_baseline.ipynb\" target=\"_parent\"><img src=\"https://colab.research.google.com/assets/colab-badge.svg\" alt=\"Open In Colab\"/></a>"
      ]
    },
    {
      "cell_type": "code",
      "source": [
        "!pip install -q scikit-learn rank-bm25\n",
        "\n",
        "import pandas as pd\n",
        "import numpy as np\n",
        "\n",
        "from sklearn.feature_extraction.text import TfidfVectorizer\n",
        "from sklearn.metrics.pairwise import cosine_similarity\n",
        "from rank_bm25 import BM25Okapi\n"
      ],
      "metadata": {
        "id": "-KPz1Mj4zxfd"
      },
      "id": "-KPz1Mj4zxfd",
      "execution_count": 1,
      "outputs": []
    },
    {
      "cell_type": "code",
      "source": [
        "from google.colab import drive\n",
        "drive.mount('/content/drive')"
      ],
      "metadata": {
        "colab": {
          "base_uri": "https://localhost:8080/"
        },
        "id": "_xcq73J30gxk",
        "outputId": "9d94376a-9eb6-4884-cb9d-20462a457323"
      },
      "id": "_xcq73J30gxk",
      "execution_count": 2,
      "outputs": [
        {
          "output_type": "stream",
          "name": "stdout",
          "text": [
            "Drive already mounted at /content/drive; to attempt to forcibly remount, call drive.mount(\"/content/drive\", force_remount=True).\n"
          ]
        }
      ]
    },
    {
      "cell_type": "code",
      "source": [
        "DATA_ROOT = \"/content/drive/MyDrive/DuplicateBugsDetector/cleaned_files\"\n",
        "train_df = pd.read_csv(f\"{DATA_ROOT}/train.csv\")\n",
        "test_df  = pd.read_csv(f\"{DATA_ROOT}/test.csv\")\n",
        "\n",
        "print(train_df.shape, test_df.shape)\n",
        "train_df.head(2)"
      ],
      "metadata": {
        "id": "SFUUMcpB0z2Q",
        "colab": {
          "base_uri": "https://localhost:8080/",
          "height": 233
        },
        "outputId": "f9a6ce4c-186c-4225-cfd8-c1e38d385c23"
      },
      "id": "SFUUMcpB0z2Q",
      "execution_count": 3,
      "outputs": [
        {
          "output_type": "stream",
          "name": "stdout",
          "text": [
            "(26183, 13) (6547, 13)\n"
          ]
        },
        {
          "output_type": "execute_result",
          "data": {
            "text/plain": [
              "   project  issue_id                                            summary  \\\n",
              "0  firefox   1606532        Address bar doesn't elide origins correctly   \n",
              "1  firefox   1606566  \"TypeError: info.PDFFormatVersion is undefined...   \n",
              "\n",
              "                                         description    status     priority  \\\n",
              "0  User Agent: Mozilla/5.0 (Windows NT 10.0; Win6...  resolved  unspecified   \n",
              "1  When the PDF version cannot be extracted from ...  verified  unspecified   \n",
              "\n",
              "  resolution                    created                   resolved  \\\n",
              "0  duplicate  2020-01-01 05:10:54+00:00  2023-06-06 00:44:25+00:00   \n",
              "1      fixed  2020-01-01 18:26:12+00:00  2020-02-06 10:01:56+00:00   \n",
              "\n",
              "                                                text  len_tokens  dup_group  \\\n",
              "0  Address bar doesn't elide origins correctly\\nU...          88  1942560.0   \n",
              "1  \"TypeError: info.PDFFormatVersion is undefined...          82        NaN   \n",
              "\n",
              "   is_duplicate  \n",
              "0          True  \n",
              "1         False  "
            ],
            "text/html": [
              "\n",
              "  <div id=\"df-5ff32a2a-de59-4344-ab23-6e47885e7678\" class=\"colab-df-container\">\n",
              "    <div>\n",
              "<style scoped>\n",
              "    .dataframe tbody tr th:only-of-type {\n",
              "        vertical-align: middle;\n",
              "    }\n",
              "\n",
              "    .dataframe tbody tr th {\n",
              "        vertical-align: top;\n",
              "    }\n",
              "\n",
              "    .dataframe thead th {\n",
              "        text-align: right;\n",
              "    }\n",
              "</style>\n",
              "<table border=\"1\" class=\"dataframe\">\n",
              "  <thead>\n",
              "    <tr style=\"text-align: right;\">\n",
              "      <th></th>\n",
              "      <th>project</th>\n",
              "      <th>issue_id</th>\n",
              "      <th>summary</th>\n",
              "      <th>description</th>\n",
              "      <th>status</th>\n",
              "      <th>priority</th>\n",
              "      <th>resolution</th>\n",
              "      <th>created</th>\n",
              "      <th>resolved</th>\n",
              "      <th>text</th>\n",
              "      <th>len_tokens</th>\n",
              "      <th>dup_group</th>\n",
              "      <th>is_duplicate</th>\n",
              "    </tr>\n",
              "  </thead>\n",
              "  <tbody>\n",
              "    <tr>\n",
              "      <th>0</th>\n",
              "      <td>firefox</td>\n",
              "      <td>1606532</td>\n",
              "      <td>Address bar doesn't elide origins correctly</td>\n",
              "      <td>User Agent: Mozilla/5.0 (Windows NT 10.0; Win6...</td>\n",
              "      <td>resolved</td>\n",
              "      <td>unspecified</td>\n",
              "      <td>duplicate</td>\n",
              "      <td>2020-01-01 05:10:54+00:00</td>\n",
              "      <td>2023-06-06 00:44:25+00:00</td>\n",
              "      <td>Address bar doesn't elide origins correctly\\nU...</td>\n",
              "      <td>88</td>\n",
              "      <td>1942560.0</td>\n",
              "      <td>True</td>\n",
              "    </tr>\n",
              "    <tr>\n",
              "      <th>1</th>\n",
              "      <td>firefox</td>\n",
              "      <td>1606566</td>\n",
              "      <td>\"TypeError: info.PDFFormatVersion is undefined...</td>\n",
              "      <td>When the PDF version cannot be extracted from ...</td>\n",
              "      <td>verified</td>\n",
              "      <td>unspecified</td>\n",
              "      <td>fixed</td>\n",
              "      <td>2020-01-01 18:26:12+00:00</td>\n",
              "      <td>2020-02-06 10:01:56+00:00</td>\n",
              "      <td>\"TypeError: info.PDFFormatVersion is undefined...</td>\n",
              "      <td>82</td>\n",
              "      <td>NaN</td>\n",
              "      <td>False</td>\n",
              "    </tr>\n",
              "  </tbody>\n",
              "</table>\n",
              "</div>\n",
              "    <div class=\"colab-df-buttons\">\n",
              "      \n",
              "  <div class=\"colab-df-container\">\n",
              "    <button class=\"colab-df-convert\" onclick=\"convertToInteractive('df-5ff32a2a-de59-4344-ab23-6e47885e7678')\"\n",
              "            title=\"Convert this dataframe to an interactive table.\"\n",
              "            style=\"display:none;\">\n",
              "      \n",
              "  <svg xmlns=\"http://www.w3.org/2000/svg\" height=\"24px\" viewBox=\"0 -960 960 960\">\n",
              "    <path d=\"M120-120v-720h720v720H120Zm60-500h600v-160H180v160Zm220 220h160v-160H400v160Zm0 220h160v-160H400v160ZM180-400h160v-160H180v160Zm440 0h160v-160H620v160ZM180-180h160v-160H180v160Zm440 0h160v-160H620v160Z\"/>\n",
              "  </svg>\n",
              "    </button>\n",
              "    \n",
              "  <style>\n",
              "    .colab-df-container {\n",
              "      display:flex;\n",
              "      gap: 12px;\n",
              "    }\n",
              "\n",
              "    .colab-df-convert {\n",
              "      background-color: #E8F0FE;\n",
              "      border: none;\n",
              "      border-radius: 50%;\n",
              "      cursor: pointer;\n",
              "      display: none;\n",
              "      fill: #1967D2;\n",
              "      height: 32px;\n",
              "      padding: 0 0 0 0;\n",
              "      width: 32px;\n",
              "    }\n",
              "\n",
              "    .colab-df-convert:hover {\n",
              "      background-color: #E2EBFA;\n",
              "      box-shadow: 0px 1px 2px rgba(60, 64, 67, 0.3), 0px 1px 3px 1px rgba(60, 64, 67, 0.15);\n",
              "      fill: #174EA6;\n",
              "    }\n",
              "\n",
              "    .colab-df-buttons div {\n",
              "      margin-bottom: 4px;\n",
              "    }\n",
              "\n",
              "    [theme=dark] .colab-df-convert {\n",
              "      background-color: #3B4455;\n",
              "      fill: #D2E3FC;\n",
              "    }\n",
              "\n",
              "    [theme=dark] .colab-df-convert:hover {\n",
              "      background-color: #434B5C;\n",
              "      box-shadow: 0px 1px 3px 1px rgba(0, 0, 0, 0.15);\n",
              "      filter: drop-shadow(0px 1px 2px rgba(0, 0, 0, 0.3));\n",
              "      fill: #FFFFFF;\n",
              "    }\n",
              "  </style>\n",
              "\n",
              "    <script>\n",
              "      const buttonEl =\n",
              "        document.querySelector('#df-5ff32a2a-de59-4344-ab23-6e47885e7678 button.colab-df-convert');\n",
              "      buttonEl.style.display =\n",
              "        google.colab.kernel.accessAllowed ? 'block' : 'none';\n",
              "\n",
              "      async function convertToInteractive(key) {\n",
              "        const element = document.querySelector('#df-5ff32a2a-de59-4344-ab23-6e47885e7678');\n",
              "        const dataTable =\n",
              "          await google.colab.kernel.invokeFunction('convertToInteractive',\n",
              "                                                    [key], {});\n",
              "        if (!dataTable) return;\n",
              "\n",
              "        const docLinkHtml = 'Like what you see? Visit the ' +\n",
              "          '<a target=\"_blank\" href=https://colab.research.google.com/notebooks/data_table.ipynb>data table notebook</a>'\n",
              "          + ' to learn more about interactive tables.';\n",
              "        element.innerHTML = '';\n",
              "        dataTable['output_type'] = 'display_data';\n",
              "        await google.colab.output.renderOutput(dataTable, element);\n",
              "        const docLink = document.createElement('div');\n",
              "        docLink.innerHTML = docLinkHtml;\n",
              "        element.appendChild(docLink);\n",
              "      }\n",
              "    </script>\n",
              "  </div>\n",
              "  \n",
              "    </div>\n",
              "  </div>\n",
              "  "
            ]
          },
          "metadata": {},
          "execution_count": 3
        }
      ]
    },
    {
      "cell_type": "markdown",
      "source": [
        "### TF-IDF baseline"
      ],
      "metadata": {
        "id": "jB11kE85VtQg"
      },
      "id": "jB11kE85VtQg"
    },
    {
      "cell_type": "code",
      "source": [
        "tfidf = TfidfVectorizer(\n",
        "    ngram_range=(1,2),\n",
        "    min_df=5,\n",
        "    max_df=0.9,\n",
        "    lowercase=True,\n",
        "    stop_words=\"english\"\n",
        ")\n",
        "X_train = tfidf.fit_transform(train_df[\"text\"].fillna(\"\"))\n",
        "\n",
        "train_ids   = train_df[\"issue_id\"].astype(str).to_numpy()\n",
        "train_group = train_df[\"dup_group\"]\n",
        "#print(tfidf.get_params())\n",
        "print(X_train.shape)"
      ],
      "metadata": {
        "colab": {
          "base_uri": "https://localhost:8080/"
        },
        "id": "e2_bU34hVvEj",
        "outputId": "c5554df2-7c7c-49ee-c53b-b4fea409093a"
      },
      "id": "e2_bU34hVvEj",
      "execution_count": 11,
      "outputs": [
        {
          "output_type": "stream",
          "name": "stdout",
          "text": [
            "(26183, 84564)\n"
          ]
        }
      ]
    },
    {
      "cell_type": "code",
      "source": [
        "# evaluation helper functions\n",
        "\n",
        "def recall_at_k(ranks_arr, k):\n",
        "    #return np.mean([1.0 if (r is not None and r < k) else 0.0 for r in ranks])\n",
        "    hits = ranks_arr < k\n",
        "    return np.mean(hits)\n",
        "\n",
        "def mrr(ranks_arr):\n",
        "    scores = np.zeros_like(ranks_arr)\n",
        "    hits = ~np.isnan(ranks_arr)\n",
        "    scores[hits] = 1.0 / (ranks_arr[hits] + 1)\n",
        "    return np.mean(scores)\n",
        "\n",
        "def first_relevant_rank(sim_scores, candidate_groups, query_group):\n",
        "    # indices of docs, sorted by score desc\n",
        "    order = np.argsort(-sim_scores)\n",
        "    # find first index where group matches query_group\n",
        "    for r, idx in enumerate(order):\n",
        "        if candidate_groups.iloc[idx] == query_group:\n",
        "            return r\n",
        "    return None\n"
      ],
      "metadata": {
        "id": "4ftQP8QghgSm"
      },
      "id": "4ftQP8QghgSm",
      "execution_count": 5,
      "outputs": []
    },
    {
      "cell_type": "code",
      "source": [
        "\n",
        "# we evaluate only queries that actually have a duplicate group\n",
        "qset = test_df[test_df[\"dup_group\"].notna()].copy()\n",
        "print(\"Queries with ground truth duplicates:\", len(qset))\n",
        "#print(qset.head())\n",
        "\n",
        "ranks_overall = []\n",
        "ranks_by_project = {p: [] for p in qset[\"project\"].unique()}"
      ],
      "metadata": {
        "colab": {
          "base_uri": "https://localhost:8080/"
        },
        "id": "kK7JyXcFhlUD",
        "outputId": "12dda70c-a139-48c0-944c-73ecf513ad82"
      },
      "id": "kK7JyXcFhlUD",
      "execution_count": 6,
      "outputs": [
        {
          "output_type": "stream",
          "name": "stdout",
          "text": [
            "Queries with ground truth duplicates: 1105\n"
          ]
        }
      ]
    },
    {
      "cell_type": "code",
      "source": [
        "# retrieval loop (cosine via dot product)\n",
        "\n",
        "for _, row in qset.iterrows():\n",
        "    qvec = tfidf.transform([row[\"text\"] if isinstance(row[\"text\"], str) else \"\"])\n",
        "\n",
        "    similarity_scores = X_train.dot(qvec.T).toarray().ravel()  #(cosine via dot product because TF-IDF is L2-normalized so each vector is unit length)\n",
        "    #print(similarity_scores.shape)\n",
        "\n",
        "    r = first_relevant_rank(similarity_scores, train_group, row[\"dup_group\"])\n",
        "    ranks_overall.append(r)\n",
        "    ranks_by_project[row[\"project\"]].append(r)\n",
        "\n",
        "\n",
        "#report metrics\n",
        "def summarize(ranks, label):\n",
        "    ranks_arr = np.array(ranks, dtype=float)\n",
        "    r1  = recall_at_k(ranks_arr, 1)\n",
        "    r5  = recall_at_k(ranks_arr, 5)\n",
        "    r10 = recall_at_k(ranks_arr,10)\n",
        "    mr  = mrr(ranks_arr)\n",
        "\n",
        "    #print(f\"{label:>10}: R@1={r1:.3f}  R@5={r5:.3f}  R@10={r10:.3f}  MRR={mr:.3f}\")\n",
        "    return r1, r5, r10, mr\n",
        "\n",
        "print(\"\\nTF-IDF Retrieval Metrics:\")\n",
        "overall_metrics = summarize(ranks_overall, \"OVERALL\")\n",
        "print()\n",
        "project_metrics = {p: summarize(ranks, p) for p, ranks in ranks_by_project.items()}\n",
        "\n",
        "\n",
        "all_metrics = pd.DataFrame(\n",
        "    [overall_metrics] + list(project_metrics.values()),\n",
        "    index=[\"OVERALL\"] + list(project_metrics.keys()),\n",
        "    columns=[\"R@1\", \"R@5\", \"R@10\", \"MRR\"]\n",
        ")\n",
        "print(all_metrics)"
      ],
      "metadata": {
        "colab": {
          "base_uri": "https://localhost:8080/"
        },
        "id": "_hBVVP4ZhpMI",
        "outputId": "e5665e6f-0338-4b12-8d90-f742b14522c5"
      },
      "id": "_hBVVP4ZhpMI",
      "execution_count": 13,
      "outputs": [
        {
          "output_type": "stream",
          "name": "stdout",
          "text": [
            "\n",
            "TF-IDF Retrieval Metrics:\n",
            "\n",
            "              R@1       R@5      R@10       MRR\n",
            "OVERALL  0.031483  0.057581  0.080365  0.045221\n",
            "firefox  0.024957  0.049484  0.067126  0.037174\n",
            "hadoop   0.200000  0.280000  0.440000  0.265634\n",
            "hbase    0.200000  0.250000  0.400000  0.237232\n"
          ]
        }
      ]
    },
    {
      "cell_type": "code",
      "source": [
        "# qualitative examples\n",
        "\n",
        "def topk_ids(sim_scores, k=5):\n",
        "    if k >= len(sim_scores):\n",
        "        return np.argsort(-sim_scores)\n",
        "    idx = np.argpartition(-sim_scores, k)[:k]\n",
        "    return idx[np.argsort(-sim_scores[idx])]\n",
        "\n",
        "def show_example(hit=True, k=5):\n",
        "\n",
        "    # pick a query with/without a hit\n",
        "    for _, row in qset.sample(frac=1, random_state=0).iterrows():\n",
        "        qvec = tfidf.transform([row[\"text\"] if isinstance(row[\"text\"], str) else \"\"])\n",
        "        similarity_scores = X_train.dot(qvec.T).toarray().ravel()\n",
        "        order_k = topk_ids(similarity_scores, k)\n",
        "        good = any(train_group.iloc[i] == row[\"dup_group\"] for i in order_k)\n",
        "        if good == hit:\n",
        "            print(\"\\n\" + (\"HIT\" if hit else \"MISS\"), f\"(project={row['project']}, issue={row['issue_id']})\")\n",
        "            print(\"Q:\", row[\"summary\"][:180].replace(\"\\n\",\" \"))\n",
        "            for rank, i in enumerate(order_k, 1):\n",
        "                print(f\"  {rank:>2}. [{train_df.iloc[i]['project']}] id={train_ids[i]}  \"\n",
        "                      f\"{train_df.iloc[i]['summary'][:120].replace('\\n',' ')}  \"\n",
        "                      f\"{'(->> Matched)' if train_group.iloc[i]==row['dup_group'] else ''}\")\n",
        "            return"
      ],
      "metadata": {
        "id": "Q85bDTE2iHS3"
      },
      "id": "Q85bDTE2iHS3",
      "execution_count": 8,
      "outputs": []
    },
    {
      "cell_type": "code",
      "source": [
        "show_example(hit=True, k=5)\n",
        "show_example(hit=False, k=5)"
      ],
      "metadata": {
        "colab": {
          "base_uri": "https://localhost:8080/"
        },
        "id": "7ZwkPlbjiM4j",
        "outputId": "6895e8e7-9aff-4f1c-fb4d-443d62eff27a"
      },
      "id": "7ZwkPlbjiM4j",
      "execution_count": 9,
      "outputs": [
        {
          "output_type": "stream",
          "name": "stdout",
          "text": [
            "\n",
            "HIT (project=firefox, issue=1909127)\n",
            "Q: Copy and paste of context menu are sometimes disabled\n",
            "   1. [firefox] id=1687750  Firefox 84.0.2 will not copy then paste every time.  \n",
            "   2. [firefox] id=1761544  Removal of Cut/Copy/Paste items from the main hamburger menu breaks functionality on some webpages (on non-macOS)  \n",
            "   3. [firefox] id=1635106  Context menu on web page isn't recognising elements as editable so cannot paste / have spell suggestions  \n",
            "   4. [firefox] id=1866650  Copy context menu button disabled  (->> Matched)\n",
            "   5. [firefox] id=1684312  Error writing selection data: Error writing to file descriptor: Broken pipe  \n",
            "\n",
            "MISS (project=firefox, issue=1945049)\n",
            "Q: The Review Checker Panel from the Firefox Sidebar opens automatically when scrolling the same pdp it was closed on\n",
            "   1. [firefox] id=1858909  Show ads in review checker Setting option is no longer displayed if the Review checker is turned off while checking a pr  \n",
            "   2. [firefox] id=1868377  Turning the Review Checker off after finishing a Survey will show an empty Review Checker  \n",
            "   3. [firefox] id=1865356  The Review Checker's Sidebar size is not remembered after restart  \n",
            "   4. [firefox] id=1865351  The Review Checker's Onboarding card will not show the scrollbar when resized to a smaller size  \n",
            "   5. [firefox] id=1868604  Size of the review checker sidebar should be remembered after closing sidebar and restarting browser  \n"
          ]
        }
      ]
    }
  ],
  "metadata": {
    "kernelspec": {
      "display_name": "textmining",
      "language": "python",
      "name": "textmining"
    },
    "language_info": {
      "codemirror_mode": {
        "name": "ipython",
        "version": 3
      },
      "file_extension": ".py",
      "mimetype": "text/x-python",
      "name": "python",
      "nbconvert_exporter": "python",
      "pygments_lexer": "ipython3",
      "version": "3.12.11"
    },
    "colab": {
      "provenance": [],
      "include_colab_link": true
    }
  },
  "nbformat": 4,
  "nbformat_minor": 5
}